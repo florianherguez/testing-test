{
 "cells": [
  {
   "cell_type": "code",
   "execution_count": 19,
   "metadata": {},
   "outputs": [
    {
     "ename": "SyntaxError",
     "evalue": "invalid syntax (3126895971.py, line 5)",
     "output_type": "error",
     "traceback": [
      "\u001b[1;36m  Input \u001b[1;32mIn [19]\u001b[1;36m\u001b[0m\n\u001b[1;33m    pip install sys\u001b[0m\n\u001b[1;37m        ^\u001b[0m\n\u001b[1;31mSyntaxError\u001b[0m\u001b[1;31m:\u001b[0m invalid syntax\n"
     ]
    }
   ],
   "source": [
    "# Install a pip package in the current Jupyter kernel\n",
    "# import sys\n",
    "# !{sys.executable} -m pip install nbimporter"
   ]
  },
  {
   "cell_type": "code",
   "execution_count": 1,
   "metadata": {},
   "outputs": [],
   "source": [
    "res = 2 + 2"
   ]
  },
  {
   "cell_type": "code",
   "execution_count": 2,
   "metadata": {},
   "outputs": [
    {
     "data": {
      "text/plain": [
       "4"
      ]
     },
     "execution_count": 2,
     "metadata": {},
     "output_type": "execute_result"
    }
   ],
   "source": [
    "res"
   ]
  },
  {
   "cell_type": "markdown",
   "metadata": {},
   "source": [
    "# LOREM IPSUM\n",
    "\n",
    "Lorem ipsum dolor sit amet, consectetur adipiscing elit. Sed fermentum, dui sit amet mattis sodales, ante mauris iaculis tellus, id efficitur nibh nulla vel nisl. In nec est dolor. Fusce eros tellus, rhoncus sit amet dolor vel, aliquet faucibus urna. Ut varius ullamcorper arcu nec feugiat. Nullam enim turpis, molestie id fringilla sed, tempor vel leo. Quisque convallis nec nibh ut tincidunt. Morbi hendrerit lorem eu sapien volutpat imperdiet. Orci varius natoque penatibus et magnis dis parturient montes, nascetur ridiculus mus. Nam interdum porta nibh eget efficitur. Donec ultricies purus convallis dolor scelerisque, rutrum volutpat tortor vestibulum. Pellentesque in quam odio. Sed sed pretium velit. Integer aliquet felis ante, in accumsan tortor vehicula non. Donec et mollis mi. Nam volutpat dictum mi, vitae tincidunt nibh eleifend vitae.\n",
    "\n",
    "Ut vel mauris nec enim vulputate euismod vel at nibh. Sed blandit odio est, sed pellentesque mi egestas volutpat. Curabitur hendrerit volutpat erat eu interdum. Nunc nisi elit, ultricies at erat dignissim, convallis dapibus libero. Nunc tempus sit amet elit eget tempus. Donec pulvinar velit arcu, id vehicula lectus volutpat in. Sed mollis pulvinar libero euismod malesuada. Donec dapibus maximus rhoncus. Aliquam quis nunc non urna facilisis vehicula."
   ]
  },
  {
   "cell_type": "code",
   "execution_count": 20,
   "metadata": {},
   "outputs": [],
   "source": [
    "def add2(x):\n",
    "    return x + 2"
   ]
  },
  {
   "cell_type": "code",
   "execution_count": 21,
   "metadata": {},
   "outputs": [
    {
     "data": {
      "text/plain": [
       "4"
      ]
     },
     "execution_count": 21,
     "metadata": {},
     "output_type": "execute_result"
    }
   ],
   "source": [
    "res = add2(2)\n",
    "res"
   ]
  },
  {
   "cell_type": "markdown",
   "metadata": {},
   "source": [
    "# LOREM IPSUM\n",
    "\n",
    "Lorem ipsum dolor sit amet, consectetur adipiscing elit. Sed fermentum, dui sit amet mattis sodales, ante mauris iaculis tellus, id efficitur nibh nulla vel nisl. In nec est dolor. Fusce eros tellus, rhoncus sit amet dolor vel, aliquet faucibus urna. Ut varius ullamcorper arcu nec feugiat. Nullam enim turpis, molestie id fringilla sed, tempor vel leo. Quisque convallis nec nibh ut tincidunt. Morbi hendrerit lorem eu sapien volutpat imperdiet. Orci varius natoque penatibus et magnis dis parturient montes, nascetur ridiculus mus. Nam interdum porta nibh eget efficitur. Donec ultricies purus convallis dolor scelerisque, rutrum volutpat tortor vestibulum. Pellentesque in quam odio. Sed sed pretium velit. Integer aliquet felis ante, in accumsan tortor vehicula non. Donec et mollis mi. Nam volutpat dictum mi, vitae tincidunt nibh eleifend vitae.\n",
    "\n",
    "Ut vel mauris nec enim vulputate euismod vel at nibh. Sed blandit odio est, sed pellentesque mi egestas volutpat. Curabitur hendrerit volutpat erat eu interdum. Nunc nisi elit, ultricies at erat dignissim, convallis dapibus libero. Nunc tempus sit amet elit eget tempus. Donec pulvinar velit arcu, id vehicula lectus volutpat in. Sed mollis pulvinar libero euismod malesuada. Donec dapibus maximus rhoncus. Aliquam quis nunc non urna facilisis vehicula."
   ]
  },
  {
   "cell_type": "code",
   "execution_count": 7,
   "metadata": {},
   "outputs": [],
   "source": [
    "import matplotlib.pyplot as plt\n",
    "\n",
    "def printGraph(x, y):\n",
    "    plt.plot(x, y)\n",
    "\n",
    "    plt.title(\"Simple Plot\")\n",
    "    \n",
    "    plt.ylabel(\"y-axis\")\n",
    "    plt.xlabel(\"x-axis\")\n",
    "    plt.show()"
   ]
  },
  {
   "cell_type": "code",
   "execution_count": 8,
   "metadata": {},
   "outputs": [
    {
     "data": {
      "image/png": "[encoded data removed]",
      "text/plain": [
       "<Figure size 432x288 with 1 Axes>"
      ]
     },
     "metadata": {
      "needs_background": "light"
     },
     "output_type": "display_data"
    }
   ],
   "source": [
    "x = [10, 20, 30, 40]\n",
    "y = [20, 30, 40, 50]\n",
    "printGraph(x, y)"
   ]
  }
 ],
 "metadata": {
  "kernelspec": {
   "display_name": "Python 3.9.0 64-bit",
   "language": "python",
   "name": "python3"
  },
  "language_info": {
   "codemirror_mode": {
    "name": "ipython",
    "version": 3
   },
   "file_extension": ".py",
   "mimetype": "text/x-python",
   "name": "python",
   "nbconvert_exporter": "python",
   "pygments_lexer": "ipython3",
   "version": "3.9.0"
  },
  "orig_nbformat": 4,
  "vscode": {
   "interpreter": {
    "hash": "69a1a1d853624da88fe3a3558871328a73b555428be3313eebd574666bb37328"
   }
  }
 },
 "nbformat": 4,
 "nbformat_minor": 2
}
